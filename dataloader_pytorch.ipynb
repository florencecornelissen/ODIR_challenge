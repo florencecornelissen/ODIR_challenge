{
 "cells": [
  {
   "cell_type": "code",
   "execution_count": 41,
   "metadata": {},
   "outputs": [],
   "source": [
    "from torch.utils.data import DataLoader, Dataset\n",
    "from PIL import Image\n",
    "import pandas as pd\n",
    "import os\n",
    "import numpy as np\n",
    "from torchvision import datasets, transforms\n",
    "from torch.utils.data import Dataset, DataLoader\n",
    "from PIL import Image\n",
    "from keras.preprocessing.image import ImageDataGenerator\n",
    "from sklearn.preprocessing import MultiLabelBinarizer"
   ]
  },
  {
   "cell_type": "code",
   "execution_count": 36,
   "metadata": {},
   "outputs": [],
   "source": [
    "filename = 'ODIR-5K_Training_Annotations(Updated)_V2.xlsx'\n",
    "df = pd.read_excel(filename)"
   ]
  },
  {
   "cell_type": "code",
   "execution_count": 37,
   "metadata": {},
   "outputs": [],
   "source": [
    "leftEyeKeywords = df['Left-Diagnostic Keywords'].copy()\n",
    "rightEyeKeywords = df['Right-Diagnostic Keywords'].copy()\n",
    "\n",
    "leftEyeKeywords = leftEyeKeywords.str.split(\"，\")\n",
    "rightEyeKeywords = rightEyeKeywords.str.split(\"，\")"
   ]
  },
  {
   "cell_type": "code",
   "execution_count": 39,
   "metadata": {},
   "outputs": [
    {
     "data": {
      "text/plain": [
       "['laser spot', 'moderate non proliferative retinopathy']"
      ]
     },
     "execution_count": 39,
     "metadata": {},
     "output_type": "execute_result"
    }
   ],
   "source": [
    "leftEyeKeywords[2]"
   ]
  },
  {
   "cell_type": "code",
   "execution_count": 43,
   "metadata": {},
   "outputs": [],
   "source": [
    "mlb = MultiLabelBinarizer()"
   ]
  },
  {
   "cell_type": "code",
   "execution_count": 47,
   "metadata": {},
   "outputs": [],
   "source": [
    "resleft = pd.DataFrame(mlb.fit_transform(leftEyeKeywords),\n",
    "                   columns=mlb.classes_,\n",
    "                   index=leftEyeKeywords.index)"
   ]
  },
  {
   "cell_type": "code",
   "execution_count": 48,
   "metadata": {},
   "outputs": [
    {
     "data": {
      "text/plain": [
       "82"
      ]
     },
     "execution_count": 48,
     "metadata": {},
     "output_type": "execute_result"
    }
   ],
   "source": [
    "allDiagnosisLeft = resleft.columns.to_list()\n",
    "len(allDiagnosisLeft)"
   ]
  },
  {
   "cell_type": "code",
   "execution_count": 51,
   "metadata": {},
   "outputs": [
    {
     "data": {
      "text/plain": [
       "84"
      ]
     },
     "execution_count": 51,
     "metadata": {},
     "output_type": "execute_result"
    }
   ],
   "source": [
    "resright = pd.DataFrame(mlb.fit_transform(rightEyeKeywords),\n",
    "                   columns=mlb.classes_,\n",
    "                   index=rightEyeKeywords.index)\n",
    "\n",
    "allDiagnosisRight = resright.columns.to_list()\n",
    "len(allDiagnosisRight)"
   ]
  },
  {
   "cell_type": "code",
   "execution_count": 52,
   "metadata": {},
   "outputs": [
    {
     "name": "stdout",
     "output_type": "stream",
     "text": [
      "total different keys diagnosis : 105\n"
     ]
    }
   ],
   "source": [
    "allDiagnosis=list(set(allDiagnosisLeft+allDiagnosisRight))\n",
    "print(\"total different keys diagnosis :\", len(allDiagnosis))"
   ]
  },
  {
   "cell_type": "code",
   "execution_count": 53,
   "metadata": {},
   "outputs": [],
   "source": [
    "test_df = df.copy()\n",
    "doubleDiagnosisRow = []"
   ]
  },
  {
   "cell_type": "code",
   "execution_count": 59,
   "metadata": {},
   "outputs": [],
   "source": [
    "def getKeyDiagnosisSingle(colName):\n",
    "  keyDiagnosis = []\n",
    "  global doubleDiagnosisRow\n",
    "  store = True\n",
    "  for row in range(len(test_df[colName])):\n",
    "    store = True\n",
    "    if test_df[colName][row] == 1:\n",
    "      for lable in test_df.columns[7:]:\n",
    "        if lable == colName:\n",
    "          continue\n",
    "        if test_df[lable][row] == 1:\n",
    "          doubleDiagnosisRow.append(row)\n",
    "          store = False\n",
    "          break\n",
    "        \n",
    "      if store == True:\n",
    "        for i in rightEyeKeywords[row]:\n",
    "          keyDiagnosis.append(i)\n",
    "        for i in leftEyeKeywords[row]:\n",
    "          keyDiagnosis.append(i)\n",
    "      \n",
    "\n",
    "  keyDiagnosis = list(set(keyDiagnosis))\n",
    "  print(keyDiagnosis)\n",
    "  return keyDiagnosis"
   ]
  },
  {
   "cell_type": "code",
   "execution_count": 60,
   "metadata": {},
   "outputs": [
    {
     "name": "stdout",
     "output_type": "stream",
     "text": [
      "['low image quality', 'normal fundus', 'lens dust']\n",
      "['mild nonproliferative retinopathy', 'proliferative diabetic retinopathy', 'moderate non proliferative retinopathy', 'diabetic retinopathy', 'no fundus image', 'low image quality', 'severe nonproliferative retinopathy', 'normal fundus', 'optic disk photographically invisible', 'severe proliferative diabetic retinopathy']\n",
      "['glaucoma', 'lens dust', 'normal fundus', 'optic disk photographically invisible', 'suspected glaucoma']\n",
      "['normal fundus', 'cataract', 'lens dust']\n",
      "['dry age-related macular degeneration', 'normal fundus', 'wet age-related macular degeneration']\n",
      "['hypertensive retinopathy']\n",
      "['myopic maculopathy', 'anterior segment image', 'lens dust', 'myopic retinopathy', 'normal fundus', 'pathological myopia']\n",
      "['suspected retinal vascular sheathing', 'pigment epithelium proliferation', 'post laser photocoagulation', 'laser spot', 'morning glory syndrome', 'suspected abnormal color of  optic disc', 'optic nerve atrophy', 'lens dust', 'congenital choroidal coloboma', 'optic discitis', 'retinochoroidal coloboma', 'wedge-shaped change', 'retinal artery macroaneurysm', 'normal fundus', 'chorioretinal atrophy with pigmentation proliferation', 'old branch retinal vein occlusion', 'spotted membranous change', 'arteriosclerosis', 'idiopathic choroidal neovascularization', 'macular coloboma', 'myelinated nerve fibers', 'vitreous degeneration', 'rhegmatogenous retinal detachment', 'epiretinal membrane over the macula', 'retinal pigmentation', 'refractive media opacity', 'chorioretinal atrophy', 'epiretinal membrane', 'tessellated fundus', 'white vessel', 'post retinal laser surgery', 'atrophic change', 'retina fold', 'silicone oil eye', 'pigmentation disorder', 'retinal vascular sheathing', 'suspected retinitis pigmentosa', 'drusen', 'macular hole', 'vessel tortuosity', 'depigmentation of the retinal pigment epithelium', 'wedge white line change', 'macular epiretinal membrane', 'maculopathy', 'oval yellow-white atrophy', 'abnormal pigment ', 'low image quality', 'atrophy', 'retinitis pigmentosa', 'low image quality,maculopathy', 'old chorioretinopathy', 'branch retinal vein occlusion', 'central retinal vein occlusion', 'asteroid hyalosis', 'branch retinal artery occlusion', 'central retinal artery occlusion', 'optic disc edema']\n"
     ]
    }
   ],
   "source": [
    "keyNormal = getKeyDiagnosisSingle(test_df.columns[7])\n",
    "keyDiabetes = getKeyDiagnosisSingle(test_df.columns[8])\n",
    "keyGlaucoma = getKeyDiagnosisSingle(test_df.columns[9])\n",
    "keyCataract = getKeyDiagnosisSingle(test_df.columns[10])\n",
    "keyAMD = getKeyDiagnosisSingle(test_df.columns[11])\n",
    "keyHypertension = getKeyDiagnosisSingle(test_df.columns[12])\n",
    "keyMyopia = getKeyDiagnosisSingle(test_df.columns[13])\n",
    "keyOtherDisease = getKeyDiagnosisSingle(test_df.columns[14])"
   ]
  },
  {
   "cell_type": "code",
   "execution_count": 56,
   "metadata": {},
   "outputs": [],
   "source": [
    "labelString = ['Normal', 'Diabetes', 'Glaucoma', 'Cataract', 'AMD', 'Hypertension', 'Myopia', 'Abnormalities']\n",
    "keyAll = [keyNormal, keyDiabetes, keyGlaucoma, keyCataract, keyAMD, keyHypertension, keyMyopia, keyOtherDisease]"
   ]
  },
  {
   "cell_type": "code",
   "execution_count": 57,
   "metadata": {},
   "outputs": [
    {
     "name": "stdout",
     "output_type": "stream",
     "text": [
      "Normal 3\n",
      "Diabetes 10\n",
      "Glaucoma 5\n",
      "Cataract 3\n",
      "AMD 3\n",
      "Hypertension 1\n",
      "Myopia 6\n",
      "Abnormalities 57\n"
     ]
    }
   ],
   "source": [
    "for i in range(8):\n",
    "  print(labelString[i], len(keyAll[i]))"
   ]
  },
  {
   "cell_type": "code",
   "execution_count": 58,
   "metadata": {},
   "outputs": [
    {
     "data": {
      "text/plain": [
       "['low image quality', 'normal fundus', 'lens dust']"
      ]
     },
     "execution_count": 58,
     "metadata": {},
     "output_type": "execute_result"
    }
   ],
   "source": [
    "keyNormal"
   ]
  },
  {
   "cell_type": "code",
   "execution_count": 61,
   "metadata": {},
   "outputs": [
    {
     "name": "stdout",
     "output_type": "stream",
     "text": [
      "intersect by normal :\n",
      "\n"
     ]
    }
   ],
   "source": [
    "print(\"intersect by normal :\\n\")\n",
    "for i in range(1,len(keyAll)):\n",
    "  keyAll[i] = list(set(keyAll[i])-set(keyAll[0]))"
   ]
  },
  {
   "cell_type": "code",
   "execution_count": 62,
   "metadata": {},
   "outputs": [
    {
     "name": "stdout",
     "output_type": "stream",
     "text": [
      "Normal 3\n",
      "Diabetes 8\n",
      "Glaucoma 3\n",
      "Cataract 1\n",
      "AMD 2\n",
      "Hypertension 1\n",
      "Myopia 4\n",
      "Abnormalities 54\n"
     ]
    }
   ],
   "source": [
    "for i in range(8):\n",
    "  print(labelString[i], len(keyAll[i]))"
   ]
  },
  {
   "cell_type": "code",
   "execution_count": 63,
   "metadata": {},
   "outputs": [
    {
     "name": "stdout",
     "output_type": "stream",
     "text": [
      "\n",
      "intersect by other :\n",
      "\n"
     ]
    }
   ],
   "source": [
    "print(\"\\nintersect by other :\\n\")\n",
    "for i in range(len(keyAll)):\n",
    "  for j in range(i,len(keyAll)):\n",
    "    if i == j:\n",
    "      continue\n",
    "    else :\n",
    "      keyAll[i] = list(set(keyAll[i])-set(keyAll[j]))\n"
   ]
  },
  {
   "cell_type": "code",
   "execution_count": 64,
   "metadata": {},
   "outputs": [
    {
     "name": "stdout",
     "output_type": "stream",
     "text": [
      "Normal 3\n",
      "Diabetes 7\n",
      "Glaucoma 3\n",
      "Cataract 1\n",
      "AMD 2\n",
      "Hypertension 1\n",
      "Myopia 4\n",
      "Abnormalities 54\n"
     ]
    }
   ],
   "source": [
    "for i in range(8):\n",
    "  print(labelString[i], len(keyAll[i]))"
   ]
  },
  {
   "cell_type": "code",
   "execution_count": 66,
   "metadata": {},
   "outputs": [],
   "source": [
    "def getAllRecognizedKey(mkeyAll):\n",
    "  mallkeyDiagnosis = []\n",
    "  for i in range(len(mkeyAll)):\n",
    "    mkeyAll[i] = list(set(mkeyAll[i]))\n",
    "    mallkeyDiagnosis = mallkeyDiagnosis+list(set(mkeyAll[i]))\n",
    "  return mallkeyDiagnosis"
   ]
  },
  {
   "cell_type": "code",
   "execution_count": 67,
   "metadata": {},
   "outputs": [],
   "source": [
    "keyNormal, keyDiabetes, keyGlaucoma, keyCataract, keyAMD, keyHypertension, keyMyopia, keyOtherDisease = keyAll[0], keyAll[1], keyAll[2], keyAll[3], keyAll[4], keyAll[5], keyAll[6], keyAll[7]\n"
   ]
  },
  {
   "cell_type": "code",
   "execution_count": 68,
   "metadata": {},
   "outputs": [
    {
     "data": {
      "text/plain": [
       "75"
      ]
     },
     "execution_count": 68,
     "metadata": {},
     "output_type": "execute_result"
    }
   ],
   "source": [
    "allkeyDiagnosis = getAllRecognizedKey(keyAll)\n",
    "len(allkeyDiagnosis)\n"
   ]
  },
  {
   "cell_type": "code",
   "execution_count": 69,
   "metadata": {},
   "outputs": [
    {
     "name": "stdout",
     "output_type": "stream",
     "text": [
      "double lablel row  586\n"
     ]
    }
   ],
   "source": [
    "doubleDiagnosisRow = list(set(doubleDiagnosisRow))\n",
    "print(\"double lablel row \",len(doubleDiagnosisRow))\n",
    "doubleDiagnosisRow.sort()"
   ]
  },
  {
   "cell_type": "code",
   "execution_count": 70,
   "metadata": {},
   "outputs": [],
   "source": [
    "notlisted = []\n",
    "listed = False\n",
    "for row in doubleDiagnosisRow:\n",
    "  # print(row)\n",
    "  for ilist in leftEyeKeywords[row]:\n",
    "    # print(ilist)\n",
    "    listed = False\n",
    "    for j in keyAll:\n",
    "      if ilist in j:\n",
    "        listed = True\n",
    "        break\n",
    "    if listed == False:\n",
    "      notlisted.append(ilist)\n",
    "\n",
    "for row in doubleDiagnosisRow:\n",
    "  for ilist in rightEyeKeywords[row]:\n",
    "    listed = False\n",
    "    for j in keyAll:\n",
    "      if ilist in j:\n",
    "        listed = True\n",
    "        break\n",
    "    if listed == False:\n",
    "      notlisted.append(ilist)"
   ]
  },
  {
   "cell_type": "code",
   "execution_count": null,
   "metadata": {},
   "outputs": [],
   "source": []
  },
  {
   "cell_type": "markdown",
   "metadata": {},
   "source": [
    "-\n",
    "-\n",
    "-\n",
    "-\n",
    "-\n",
    "-\n",
    "-\n",
    "-\n",
    "-"
   ]
  },
  {
   "cell_type": "code",
   "execution_count": null,
   "metadata": {},
   "outputs": [],
   "source": []
  },
  {
   "cell_type": "code",
   "execution_count": null,
   "metadata": {},
   "outputs": [],
   "source": []
  },
  {
   "cell_type": "code",
   "execution_count": 23,
   "metadata": {},
   "outputs": [],
   "source": [
    "img = Image.open(\"./ODIR-5K_Training_Dataset/0_left.jpg\")\n",
    "img_array = np.array(img)"
   ]
  },
  {
   "cell_type": "code",
   "execution_count": 25,
   "metadata": {},
   "outputs": [
    {
     "name": "stdout",
     "output_type": "stream",
     "text": [
      "(1728, 2304, 3)\n"
     ]
    }
   ],
   "source": [
    "print(img_array.shape)"
   ]
  },
  {
   "cell_type": "code",
   "execution_count": 26,
   "metadata": {},
   "outputs": [],
   "source": [
    "df = pd.DataFrame(img_array.reshape(-1, 4), columns=[\"R\", \"G\", \"B\", \"A\"])"
   ]
  },
  {
   "cell_type": "code",
   "execution_count": 27,
   "metadata": {},
   "outputs": [
    {
     "data": {
      "text/html": [
       "<div>\n",
       "<style scoped>\n",
       "    .dataframe tbody tr th:only-of-type {\n",
       "        vertical-align: middle;\n",
       "    }\n",
       "\n",
       "    .dataframe tbody tr th {\n",
       "        vertical-align: top;\n",
       "    }\n",
       "\n",
       "    .dataframe thead th {\n",
       "        text-align: right;\n",
       "    }\n",
       "</style>\n",
       "<table border=\"1\" class=\"dataframe\">\n",
       "  <thead>\n",
       "    <tr style=\"text-align: right;\">\n",
       "      <th></th>\n",
       "      <th>R</th>\n",
       "      <th>G</th>\n",
       "      <th>B</th>\n",
       "      <th>A</th>\n",
       "    </tr>\n",
       "  </thead>\n",
       "  <tbody>\n",
       "    <tr>\n",
       "      <th>0</th>\n",
       "      <td>0</td>\n",
       "      <td>0</td>\n",
       "      <td>0</td>\n",
       "      <td>0</td>\n",
       "    </tr>\n",
       "    <tr>\n",
       "      <th>1</th>\n",
       "      <td>0</td>\n",
       "      <td>0</td>\n",
       "      <td>0</td>\n",
       "      <td>0</td>\n",
       "    </tr>\n",
       "    <tr>\n",
       "      <th>2</th>\n",
       "      <td>0</td>\n",
       "      <td>0</td>\n",
       "      <td>0</td>\n",
       "      <td>0</td>\n",
       "    </tr>\n",
       "    <tr>\n",
       "      <th>3</th>\n",
       "      <td>0</td>\n",
       "      <td>0</td>\n",
       "      <td>0</td>\n",
       "      <td>0</td>\n",
       "    </tr>\n",
       "    <tr>\n",
       "      <th>4</th>\n",
       "      <td>0</td>\n",
       "      <td>0</td>\n",
       "      <td>0</td>\n",
       "      <td>0</td>\n",
       "    </tr>\n",
       "    <tr>\n",
       "      <th>...</th>\n",
       "      <td>...</td>\n",
       "      <td>...</td>\n",
       "      <td>...</td>\n",
       "      <td>...</td>\n",
       "    </tr>\n",
       "    <tr>\n",
       "      <th>2985979</th>\n",
       "      <td>0</td>\n",
       "      <td>0</td>\n",
       "      <td>0</td>\n",
       "      <td>0</td>\n",
       "    </tr>\n",
       "    <tr>\n",
       "      <th>2985980</th>\n",
       "      <td>0</td>\n",
       "      <td>0</td>\n",
       "      <td>0</td>\n",
       "      <td>0</td>\n",
       "    </tr>\n",
       "    <tr>\n",
       "      <th>2985981</th>\n",
       "      <td>0</td>\n",
       "      <td>0</td>\n",
       "      <td>0</td>\n",
       "      <td>0</td>\n",
       "    </tr>\n",
       "    <tr>\n",
       "      <th>2985982</th>\n",
       "      <td>0</td>\n",
       "      <td>0</td>\n",
       "      <td>0</td>\n",
       "      <td>0</td>\n",
       "    </tr>\n",
       "    <tr>\n",
       "      <th>2985983</th>\n",
       "      <td>0</td>\n",
       "      <td>0</td>\n",
       "      <td>0</td>\n",
       "      <td>0</td>\n",
       "    </tr>\n",
       "  </tbody>\n",
       "</table>\n",
       "<p>2985984 rows × 4 columns</p>\n",
       "</div>"
      ],
      "text/plain": [
       "         R  G  B  A\n",
       "0        0  0  0  0\n",
       "1        0  0  0  0\n",
       "2        0  0  0  0\n",
       "3        0  0  0  0\n",
       "4        0  0  0  0\n",
       "...     .. .. .. ..\n",
       "2985979  0  0  0  0\n",
       "2985980  0  0  0  0\n",
       "2985981  0  0  0  0\n",
       "2985982  0  0  0  0\n",
       "2985983  0  0  0  0\n",
       "\n",
       "[2985984 rows x 4 columns]"
      ]
     },
     "execution_count": 27,
     "metadata": {},
     "output_type": "execute_result"
    }
   ],
   "source": [
    "df"
   ]
  },
  {
   "cell_type": "code",
   "execution_count": null,
   "metadata": {},
   "outputs": [],
   "source": []
  }
 ],
 "metadata": {
  "kernelspec": {
   "display_name": "AIMI",
   "language": "python",
   "name": "python3"
  },
  "language_info": {
   "codemirror_mode": {
    "name": "ipython",
    "version": 3
   },
   "file_extension": ".py",
   "mimetype": "text/x-python",
   "name": "python",
   "nbconvert_exporter": "python",
   "pygments_lexer": "ipython3",
   "version": "3.10.0"
  },
  "orig_nbformat": 4
 },
 "nbformat": 4,
 "nbformat_minor": 2
}
