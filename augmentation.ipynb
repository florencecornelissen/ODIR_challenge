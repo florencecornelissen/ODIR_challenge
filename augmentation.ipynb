{
 "cells": [
  {
   "cell_type": "code",
   "execution_count": 1,
   "metadata": {},
   "outputs": [],
   "source": [
    "import random"
   ]
  },
  {
   "cell_type": "code",
   "execution_count": 2,
   "metadata": {},
   "outputs": [],
   "source": [
    "def augment_image(image):\n",
    "    augmentations = A.Compose([\n",
    "        A.Rotate(limit=15, p=0.5),  # Random rotation up to 15 degrees\n",
    "        A.HorizontalFlip(p=0.5),   # Horizontal flipping with a 50% probability\n",
    "        A.RandomBrightnessContrast(p=0.5),  # Random brightness and contrast adjustments\n",
    "        A.ElasticTransform(alpha=1, sigma=10, alpha_affine=10, p=0.5),  # Elastic deformation\n",
    "        A.Blur(blur_limit=(3, 7), p=0.5),  # Gaussian blur\n",
    "        A.RandomGamma(p=0.5),  # Random gamma adjustment\n",
    "        A.HueSaturationValue(p=0.5),  # Hue, saturation, and value adjustments\n",
    "    ], p=1)\n",
    "\n",
    "    # Apply augmentations\n",
    "    augmented = augmentations(image=image)\n",
    "    augmented_image = augmented['image']\n",
    "\n",
    "    return augmented_image\n",
    "\n"
   ]
  }
 ],
 "metadata": {
  "kernelspec": {
   "display_name": "Python 3",
   "language": "python",
   "name": "python3"
  },
  "language_info": {
   "codemirror_mode": {
    "name": "ipython",
    "version": 3
   },
   "file_extension": ".py",
   "mimetype": "text/x-python",
   "name": "python",
   "nbconvert_exporter": "python",
   "pygments_lexer": "ipython3",
   "version": "3.11.5"
  },
  "orig_nbformat": 4
 },
 "nbformat": 4,
 "nbformat_minor": 2
}
