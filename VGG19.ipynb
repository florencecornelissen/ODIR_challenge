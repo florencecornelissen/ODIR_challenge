{
 "cells": [
  {
   "cell_type": "code",
   "execution_count": 12,
   "metadata": {},
   "outputs": [],
   "source": [
    "from keras.models import Sequential\n",
    "#Import from keras_preprocessing not from keras.preprocessing\n",
    "from keras_preprocessing.image import ImageDataGenerator\n",
    "from keras.layers import Dense, Activation, Flatten, Dropout, BatchNormalization, Rescaling\n",
    "from keras.layers import Conv2D, MaxPooling2D, Conv3D\n",
    "from keras.callbacks import ModelCheckpoint\n",
    "from keras import regularizers, optimizers, Input\n",
    "import pandas as pd\n",
    "import numpy as np\n",
    "from keras.optimizers import RMSprop, Adam\n",
    "import ast\n",
    "import random\n",
    "from tqdm import tqdm\n",
    "from sklearn.model_selection import train_test_split\n",
    "import matplotlib.pyplot as plt\n",
    "from sklearn.preprocessing import MultiLabelBinarizer\n",
    "import os\n",
    "import cv2\n",
    "import re\n",
    "from keras.applications import ResNet50\n",
    "from tensorflow.keras.utils import Sequence\n",
    "from keras.applications import VGG19\n",
    "from tensorflow.keras.models import Model\n",
    "from keras.saving import load_model\n",
    "import pickle"
   ]
  },
  {
   "cell_type": "code",
   "execution_count": 32,
   "metadata": {},
   "outputs": [],
   "source": [
    "X_train = np.load('./Datasets/X_train.npy')\n",
    "X_val = np.load('./Datasets/X_val.npy')\n",
    "y_train = np.load('./Datasets/y_train.npy')\n",
    "y_val = np.load('./Datasets/y_val.npy')\n",
    "with open('./Datasets/class_weights.pkl', 'rb') as file:\n",
    "    loaded_class_weights = pickle.load(file)"
   ]
  },
  {
   "cell_type": "code",
   "execution_count": 4,
   "metadata": {},
   "outputs": [],
   "source": [
    "IMG_SHAPE = X_train[0].shape"
   ]
  },
  {
   "cell_type": "code",
   "execution_count": 34,
   "metadata": {},
   "outputs": [
    {
     "name": "stdout",
     "output_type": "stream",
     "text": [
      "\n",
      "Model input shape:\n",
      "(None, 224, 224, 3)\n",
      "Model output shape:\n",
      "(None, 8)\n",
      "\n",
      "\n",
      "Model summary:\n",
      "Model: \"sequential_1\"\n",
      "_________________________________________________________________\n",
      " Layer (type)                Output Shape              Param #   \n",
      "=================================================================\n",
      " rescaling_1 (Rescaling)     (None, 224, 224, 3)       0         \n",
      "                                                                 \n",
      " vgg19 (Functional)          (None, 7, 7, 512)         20024384  \n",
      "                                                                 \n",
      " flatten_1 (Flatten)         (None, 25088)             0         \n",
      "                                                                 \n",
      " dense_3 (Dense)             (None, 256)               6422784   \n",
      "                                                                 \n",
      " dropout_2 (Dropout)         (None, 256)               0         \n",
      "                                                                 \n",
      " dense_4 (Dense)             (None, 128)               32896     \n",
      "                                                                 \n",
      " dropout_3 (Dropout)         (None, 128)               0         \n",
      "                                                                 \n",
      " dense_5 (Dense)             (None, 8)                 1032      \n",
      "                                                                 \n",
      "=================================================================\n",
      "Total params: 26481096 (101.02 MB)\n",
      "Trainable params: 6456712 (24.63 MB)\n",
      "Non-trainable params: 20024384 (76.39 MB)\n",
      "_________________________________________________________________\n"
     ]
    }
   ],
   "source": [
    "base_model = VGG19(include_top = False, weights = 'imagenet', input_shape = IMG_SHAPE)\n",
    "base_model.trainable = False\n",
    "model= Sequential()\n",
    "model.add(Rescaling(1./255,input_shape = IMG_SHAPE))\n",
    "model.add(base_model)\n",
    "model.add(Flatten())\n",
    "model.add(Dense(256,activation=('relu'))) \n",
    "model.add(Dropout(.2))\n",
    "model.add(Dense(128,activation=('relu')))\n",
    "model.add(Dropout(.2))\n",
    "model.add(Dense(8,activation=('sigmoid')))\n",
    "\n",
    "# Sanity check\n",
    "print(f\"\\nModel input shape:\\n{model.input_shape}\\nModel output shape:\\n\"\\\n",
    "f\"{model.output_shape}\\n\\n\\nModel summary:\") \n",
    "model.summary()"
   ]
  },
  {
   "cell_type": "code",
   "execution_count": 35,
   "metadata": {},
   "outputs": [],
   "source": [
    "# Model is saved at the end of every epoch, if it's the best seen so far.\n",
    "checkpoint_filepath = './Checkpointnormalized'\n",
    "model_checkpoint_callback = ModelCheckpoint(\n",
    "    filepath=checkpoint_filepath,\n",
    "    save_weights_only=False,\n",
    "    monitor='val_accuracy',\n",
    "    mode='max',\n",
    "    save_best_only=True)"
   ]
  },
  {
   "cell_type": "code",
   "execution_count": 36,
   "metadata": {},
   "outputs": [],
   "source": [
    "#Initializing the hyperparameters\n",
    "batch_size= 2**6\n",
    "initial_epochs=15\n",
    "learn_rate=0.001\n",
    "adam = Adam(learning_rate=learn_rate)"
   ]
  },
  {
   "cell_type": "code",
   "execution_count": 38,
   "metadata": {},
   "outputs": [],
   "source": [
    "class CustomDataGenerator(Sequence):\n",
    "    def __init__(self, X, y, batch_size, class_weights):\n",
    "        self.X = X\n",
    "        self.y = y\n",
    "        self.batch_size = batch_size\n",
    "        self.class_weights = class_weights\n",
    "\n",
    "    def __len__(self):\n",
    "        return int(np.ceil(len(self.X) / self.batch_size))\n",
    "\n",
    "    def __getitem__(self, index):\n",
    "        batch_X = self.X[index * self.batch_size:(index + 1) * self.batch_size]\n",
    "        batch_y = self.y[index * self.batch_size:(index + 1) * self.batch_size]\n",
    "        return batch_X, batch_y\n",
    "\n",
    "    def on_epoch_end(self):\n",
    "        # Optionally shuffle your data here\n",
    "        pass\n",
    "\n",
    "train_generator = CustomDataGenerator(X_train, y_train, batch_size, loaded_class_weights)"
   ]
  },
  {
   "cell_type": "code",
   "execution_count": 39,
   "metadata": {},
   "outputs": [
    {
     "name": "stdout",
     "output_type": "stream",
     "text": [
      "Epoch 1/15\n",
      "88/87 [==============================] - ETA: 0s - loss: 2.1081 - accuracy: 0.3629 INFO:tensorflow:Assets written to: ./Checkpointnormalized/assets\n"
     ]
    },
    {
     "name": "stderr",
     "output_type": "stream",
     "text": [
      "INFO:tensorflow:Assets written to: ./Checkpointnormalized/assets\n"
     ]
    },
    {
     "name": "stdout",
     "output_type": "stream",
     "text": [
      "87/87 [==============================] - 1573s 18s/step - loss: 2.1081 - accuracy: 0.3629 - val_loss: 1.8340 - val_accuracy: 0.2971\n",
      "Epoch 2/15\n",
      "88/87 [==============================] - ETA: 0s - loss: 2.1220 - accuracy: 0.3555 INFO:tensorflow:Assets written to: ./Checkpointnormalized/assets\n"
     ]
    },
    {
     "name": "stderr",
     "output_type": "stream",
     "text": [
      "INFO:tensorflow:Assets written to: ./Checkpointnormalized/assets\n"
     ]
    },
    {
     "name": "stdout",
     "output_type": "stream",
     "text": [
      "87/87 [==============================] - 1148s 13s/step - loss: 2.1220 - accuracy: 0.3555 - val_loss: 2.2958 - val_accuracy: 0.3983\n",
      "Epoch 3/15\n",
      "87/87 [==============================] - 1052s 12s/step - loss: 7.8668 - accuracy: 0.2778 - val_loss: 16.7813 - val_accuracy: 0.2758\n",
      "Epoch 4/15\n",
      "87/87 [==============================] - 1045s 12s/step - loss: 38.4528 - accuracy: 0.2688 - val_loss: 52.3698 - val_accuracy: 0.2758\n",
      "Epoch 5/15\n",
      "87/87 [==============================] - 1038s 12s/step - loss: 94.9075 - accuracy: 0.2691 - val_loss: 138.4785 - val_accuracy: 0.3983\n",
      "Epoch 6/15\n",
      "87/87 [==============================] - 1306s 15s/step - loss: 187.7588 - accuracy: 0.2697 - val_loss: 269.2062 - val_accuracy: 0.2758\n",
      "Epoch 7/15\n",
      "87/87 [==============================] - 1707s 19s/step - loss: 382.4538 - accuracy: 0.2828 - val_loss: 469.4022 - val_accuracy: 0.2758\n",
      "Epoch 8/15\n",
      "87/87 [==============================] - 1752s 20s/step - loss: 461.6650 - accuracy: 0.2665 - val_loss: 405.1428 - val_accuracy: 0.2758\n",
      "Epoch 9/15\n",
      "87/87 [==============================] - 1454s 17s/step - loss: 627.6111 - accuracy: 0.2800 - val_loss: 818.1906 - val_accuracy: 0.0479\n",
      "Epoch 10/15\n",
      "87/87 [==============================] - 1172s 13s/step - loss: 792.7460 - accuracy: 0.2727 - val_loss: 1102.1742 - val_accuracy: 0.0181\n",
      "Epoch 11/15\n",
      "87/87 [==============================] - 1086s 12s/step - loss: 1134.1420 - accuracy: 0.2711 - val_loss: 1586.6495 - val_accuracy: 0.1214\n",
      "Epoch 12/15\n",
      "87/87 [==============================] - 1102s 13s/step - loss: 1170.4023 - accuracy: 0.2794 - val_loss: 1255.0455 - val_accuracy: 0.3983\n",
      "Epoch 13/15\n",
      "87/87 [==============================] - 1289s 15s/step - loss: 1495.9702 - accuracy: 0.2675 - val_loss: 1801.4824 - val_accuracy: 0.3983\n",
      "Epoch 14/15\n",
      "87/87 [==============================] - 5545s 64s/step - loss: 1927.2330 - accuracy: 0.2748 - val_loss: 1462.1295 - val_accuracy: 0.3983\n",
      "Epoch 15/15\n",
      "87/87 [==============================] - 1083s 12s/step - loss: 1938.9484 - accuracy: 0.2775 - val_loss: 1714.3932 - val_accuracy: 0.3983\n"
     ]
    }
   ],
   "source": [
    "\n",
    "model.compile(optimizer=adam,loss='categorical_crossentropy',metrics=['accuracy'])\n",
    "\n",
    "history = model.fit(train_generator,\n",
    "                    epochs=initial_epochs,\n",
    "                    validation_data=(X_val,y_val),\n",
    "                    steps_per_epoch= len(X_train)/batch_size,\n",
    "                    validation_steps=len(X_val),\n",
    "                    callbacks=[model_checkpoint_callback],\n",
    "                    verbose = 1)\n"
   ]
  },
  {
   "cell_type": "code",
   "execution_count": 40,
   "metadata": {},
   "outputs": [
    {
     "data": {
      "image/png": "[encoded data removed]",
      "text/plain": [
       "<Figure size 800x800 with 2 Axes>"
      ]
     },
     "metadata": {},
     "output_type": "display_data"
    }
   ],
   "source": [
    "acc = history.history['accuracy']\n",
    "val_acc = history.history['val_accuracy']\n",
    "\n",
    "loss = history.history['loss']\n",
    "val_loss = history.history['val_loss']\n",
    "\n",
    "plt.figure(figsize=(8, 8))\n",
    "plt.subplot(2, 1, 1)\n",
    "plt.plot(acc, label='Training Accuracy')\n",
    "plt.plot(val_acc, label='Validation Accuracy')\n",
    "plt.legend(loc='lower right')\n",
    "plt.ylabel('Accuracy')\n",
    "# plt.ylim([min(plt.ylim()),1])\n",
    "plt.title('Training and Validation Accuracy')\n",
    "\n",
    "plt.subplot(2, 1, 2)\n",
    "plt.plot(loss, label='Training Loss')\n",
    "plt.plot(val_loss, label='Validation Loss')\n",
    "plt.legend(loc='upper right')\n",
    "plt.ylabel('Loss')\n",
    "# plt.ylim([0,1.0])\n",
    "plt.title('Training and Validation Loss')\n",
    "plt.xlabel('epoch')\n",
    "plt.show()\n",
    "\n",
    "# _ , accuracy = model.evaluate(x=X_test,y=y_test,batch_size= batch_size,verbose=1)\n",
    "# print(f'Model accuracy on test set: {round(accuracy,3)*100}%')"
   ]
  },
  {
   "cell_type": "code",
   "execution_count": 41,
   "metadata": {},
   "outputs": [
    {
     "data": {
      "text/html": [
       "<div>\n",
       "<style scoped>\n",
       "    .dataframe tbody tr th:only-of-type {\n",
       "        vertical-align: middle;\n",
       "    }\n",
       "\n",
       "    .dataframe tbody tr th {\n",
       "        vertical-align: top;\n",
       "    }\n",
       "\n",
       "    .dataframe thead th {\n",
       "        text-align: right;\n",
       "    }\n",
       "</style>\n",
       "<table border=\"1\" class=\"dataframe\">\n",
       "  <thead>\n",
       "    <tr style=\"text-align: right;\">\n",
       "      <th></th>\n",
       "      <th>ID</th>\n",
       "      <th>N</th>\n",
       "      <th>D</th>\n",
       "      <th>G</th>\n",
       "      <th>C</th>\n",
       "      <th>A</th>\n",
       "      <th>H</th>\n",
       "      <th>M</th>\n",
       "      <th>O</th>\n",
       "    </tr>\n",
       "  </thead>\n",
       "  <tbody>\n",
       "    <tr>\n",
       "      <th>0</th>\n",
       "      <td>937</td>\n",
       "      <td>0</td>\n",
       "      <td>0</td>\n",
       "      <td>0</td>\n",
       "      <td>0</td>\n",
       "      <td>0</td>\n",
       "      <td>0</td>\n",
       "      <td>0</td>\n",
       "      <td>0</td>\n",
       "    </tr>\n",
       "    <tr>\n",
       "      <th>1</th>\n",
       "      <td>967</td>\n",
       "      <td>0</td>\n",
       "      <td>0</td>\n",
       "      <td>0</td>\n",
       "      <td>0</td>\n",
       "      <td>0</td>\n",
       "      <td>0</td>\n",
       "      <td>0</td>\n",
       "      <td>0</td>\n",
       "    </tr>\n",
       "    <tr>\n",
       "      <th>2</th>\n",
       "      <td>988</td>\n",
       "      <td>0</td>\n",
       "      <td>0</td>\n",
       "      <td>0</td>\n",
       "      <td>0</td>\n",
       "      <td>0</td>\n",
       "      <td>0</td>\n",
       "      <td>0</td>\n",
       "      <td>0</td>\n",
       "    </tr>\n",
       "    <tr>\n",
       "      <th>3</th>\n",
       "      <td>995</td>\n",
       "      <td>0</td>\n",
       "      <td>0</td>\n",
       "      <td>0</td>\n",
       "      <td>0</td>\n",
       "      <td>0</td>\n",
       "      <td>0</td>\n",
       "      <td>0</td>\n",
       "      <td>0</td>\n",
       "    </tr>\n",
       "    <tr>\n",
       "      <th>4</th>\n",
       "      <td>1000</td>\n",
       "      <td>0</td>\n",
       "      <td>0</td>\n",
       "      <td>0</td>\n",
       "      <td>0</td>\n",
       "      <td>0</td>\n",
       "      <td>0</td>\n",
       "      <td>0</td>\n",
       "      <td>0</td>\n",
       "    </tr>\n",
       "    <tr>\n",
       "      <th>...</th>\n",
       "      <td>...</td>\n",
       "      <td>...</td>\n",
       "      <td>...</td>\n",
       "      <td>...</td>\n",
       "      <td>...</td>\n",
       "      <td>...</td>\n",
       "      <td>...</td>\n",
       "      <td>...</td>\n",
       "      <td>...</td>\n",
       "    </tr>\n",
       "    <tr>\n",
       "      <th>495</th>\n",
       "      <td>4787</td>\n",
       "      <td>0</td>\n",
       "      <td>0</td>\n",
       "      <td>0</td>\n",
       "      <td>0</td>\n",
       "      <td>0</td>\n",
       "      <td>0</td>\n",
       "      <td>0</td>\n",
       "      <td>0</td>\n",
       "    </tr>\n",
       "    <tr>\n",
       "      <th>496</th>\n",
       "      <td>4788</td>\n",
       "      <td>0</td>\n",
       "      <td>0</td>\n",
       "      <td>0</td>\n",
       "      <td>0</td>\n",
       "      <td>0</td>\n",
       "      <td>0</td>\n",
       "      <td>0</td>\n",
       "      <td>0</td>\n",
       "    </tr>\n",
       "    <tr>\n",
       "      <th>497</th>\n",
       "      <td>4789</td>\n",
       "      <td>0</td>\n",
       "      <td>0</td>\n",
       "      <td>0</td>\n",
       "      <td>0</td>\n",
       "      <td>0</td>\n",
       "      <td>0</td>\n",
       "      <td>0</td>\n",
       "      <td>0</td>\n",
       "    </tr>\n",
       "    <tr>\n",
       "      <th>498</th>\n",
       "      <td>4791</td>\n",
       "      <td>0</td>\n",
       "      <td>0</td>\n",
       "      <td>0</td>\n",
       "      <td>0</td>\n",
       "      <td>0</td>\n",
       "      <td>0</td>\n",
       "      <td>0</td>\n",
       "      <td>0</td>\n",
       "    </tr>\n",
       "    <tr>\n",
       "      <th>499</th>\n",
       "      <td>4794</td>\n",
       "      <td>0</td>\n",
       "      <td>0</td>\n",
       "      <td>0</td>\n",
       "      <td>0</td>\n",
       "      <td>0</td>\n",
       "      <td>0</td>\n",
       "      <td>0</td>\n",
       "      <td>0</td>\n",
       "    </tr>\n",
       "  </tbody>\n",
       "</table>\n",
       "<p>500 rows × 9 columns</p>\n",
       "</div>"
      ],
      "text/plain": [
       "       ID  N  D  G  C  A  H  M  O\n",
       "0     937  0  0  0  0  0  0  0  0\n",
       "1     967  0  0  0  0  0  0  0  0\n",
       "2     988  0  0  0  0  0  0  0  0\n",
       "3     995  0  0  0  0  0  0  0  0\n",
       "4    1000  0  0  0  0  0  0  0  0\n",
       "..    ... .. .. .. .. .. .. .. ..\n",
       "495  4787  0  0  0  0  0  0  0  0\n",
       "496  4788  0  0  0  0  0  0  0  0\n",
       "497  4789  0  0  0  0  0  0  0  0\n",
       "498  4791  0  0  0  0  0  0  0  0\n",
       "499  4794  0  0  0  0  0  0  0  0\n",
       "\n",
       "[500 rows x 9 columns]"
      ]
     },
     "execution_count": 41,
     "metadata": {},
     "output_type": "execute_result"
    }
   ],
   "source": [
    "testdfstart= pd.read_csv('XYZ_ODIR.csv')\n",
    "testdfstart"
   ]
  },
  {
   "cell_type": "code",
   "execution_count": 42,
   "metadata": {},
   "outputs": [],
   "source": [
    "testdf = pd.DataFrame(np.repeat(testdfstart.values, 2, axis=0))\n",
    "testdf.columns = testdfstart.columns\n",
    "\n",
    "def append_extension(fn, side):\n",
    "    return f\"{fn}_{side}.jpg\"\n",
    "\n",
    "testdf['Side'] = testdf.index % 2\n",
    "\n",
    "testdf['ID number'] = testdf.loc[:, 'ID']\n",
    "\n",
    "testdf['ID number'] = testdf.apply(lambda row: append_extension(row['ID number'], 'left' if row['Side'] == 0 else 'right'), axis=1)\n",
    "\n",
    "testdf.drop(columns=['Side'], inplace=True)"
   ]
  },
  {
   "cell_type": "code",
   "execution_count": 43,
   "metadata": {},
   "outputs": [],
   "source": [
    "testdf = testdf[['ID', 'ID number', 'A', 'C', 'D', 'G', 'H', 'M', 'N', 'O']]"
   ]
  },
  {
   "cell_type": "code",
   "execution_count": 44,
   "metadata": {},
   "outputs": [],
   "source": [
    "test_dir = './squared_and_cropped_dataset_test/'\n",
    "test_img = [os.path.join(test_dir, i) for i in os.listdir(test_dir)]\n",
    "img_size = 224"
   ]
  },
  {
   "cell_type": "code",
   "execution_count": 45,
   "metadata": {},
   "outputs": [
    {
     "name": "stderr",
     "output_type": "stream",
     "text": [
      "  0%|          | 0/1000 [00:00<?, ?it/s]"
     ]
    },
    {
     "name": "stderr",
     "output_type": "stream",
     "text": [
      "100%|██████████| 1000/1000 [00:01<00:00, 573.08it/s]\n"
     ]
    }
   ],
   "source": [
    "# Form the test labels\n",
    "X_test = []\n",
    "for image in tqdm(test_img):\n",
    "    img = cv2.imread(image)\n",
    "    # img = cv2.resize(img, (img_size, img_size), interpolation=cv2.INTER_CUBIC)\n",
    "    # convert image to 2D to 3D\n",
    "    # img = np.dstack([img, img, img])\n",
    "    # convrt greyscale image to RGB\n",
    "    # img = cv2.cvtColor(img, cv2.COLOR_BGR2RGB)\n",
    "    # Normalalize Image\n",
    "    img = img.astype(np.float32) / 255.\n",
    "    X_test.append(img)"
   ]
  },
  {
   "cell_type": "code",
   "execution_count": 46,
   "metadata": {},
   "outputs": [],
   "source": [
    "X_test = np.asarray(X_test, dtype=np.float32)"
   ]
  },
  {
   "cell_type": "code",
   "execution_count": 47,
   "metadata": {},
   "outputs": [
    {
     "name": "stdout",
     "output_type": "stream",
     "text": [
      "Model: \"sequential_1\"\n",
      "_________________________________________________________________\n",
      " Layer (type)                Output Shape              Param #   \n",
      "=================================================================\n",
      " rescaling_1 (Rescaling)     (None, 224, 224, 3)       0         \n",
      "                                                                 \n",
      " vgg19 (Functional)          (None, 7, 7, 512)         20024384  \n",
      "                                                                 \n",
      " flatten_1 (Flatten)         (None, 25088)             0         \n",
      "                                                                 \n",
      " dense_3 (Dense)             (None, 256)               6422784   \n",
      "                                                                 \n",
      " dropout_2 (Dropout)         (None, 256)               0         \n",
      "                                                                 \n",
      " dense_4 (Dense)             (None, 128)               32896     \n",
      "                                                                 \n",
      " dropout_3 (Dropout)         (None, 128)               0         \n",
      "                                                                 \n",
      " dense_5 (Dense)             (None, 8)                 1032      \n",
      "                                                                 \n",
      "=================================================================\n",
      "Total params: 26481096 (101.02 MB)\n",
      "Trainable params: 6456712 (24.63 MB)\n",
      "Non-trainable params: 20024384 (76.39 MB)\n",
      "_________________________________________________________________\n"
     ]
    }
   ],
   "source": [
    "model = load_model('./Checkpointnormalized/')\n",
    "model.compile(optimizer='adam', loss='categorical_crossentropy', metrics=['accuracy'])\n",
    "model.summary()\n"
   ]
  },
  {
   "cell_type": "code",
   "execution_count": 48,
   "metadata": {},
   "outputs": [
    {
     "name": "stdout",
     "output_type": "stream",
     "text": [
      "15/15 [==============================] - 168s 11s/step\n"
     ]
    }
   ],
   "source": [
    "batch_size=2**6\n",
    "y_test = model.predict(X_test, steps=len(testdf)/batch_size)"
   ]
  },
  {
   "cell_type": "code",
   "execution_count": 49,
   "metadata": {},
   "outputs": [],
   "source": [
    "for i,j in enumerate(['A', 'C', 'D', 'G', 'H', 'M', 'N', 'O']):\n",
    "  testdf[j]=y_test[:,i]"
   ]
  },
  {
   "cell_type": "code",
   "execution_count": 50,
   "metadata": {},
   "outputs": [],
   "source": [
    "# Weer de columns omzetten naar de juiste class volgorde om het in te leveren\n",
    "testdf = testdf[['ID', 'ID number', 'N' ,'D' ,'G', 'C', 'A' ,'H' ,'M', 'O']]"
   ]
  },
  {
   "cell_type": "code",
   "execution_count": 51,
   "metadata": {},
   "outputs": [],
   "source": [
    "# For each two rows, take the max of the two rows\n",
    "testdf = testdf.groupby(testdf.index // 2).max()"
   ]
  },
  {
   "cell_type": "code",
   "execution_count": 52,
   "metadata": {},
   "outputs": [],
   "source": [
    "testdf = testdf.drop(columns=['ID number'])"
   ]
  },
  {
   "cell_type": "code",
   "execution_count": 53,
   "metadata": {},
   "outputs": [
    {
     "data": {
      "text/html": [
       "<div>\n",
       "<style scoped>\n",
       "    .dataframe tbody tr th:only-of-type {\n",
       "        vertical-align: middle;\n",
       "    }\n",
       "\n",
       "    .dataframe tbody tr th {\n",
       "        vertical-align: top;\n",
       "    }\n",
       "\n",
       "    .dataframe thead th {\n",
       "        text-align: right;\n",
       "    }\n",
       "</style>\n",
       "<table border=\"1\" class=\"dataframe\">\n",
       "  <thead>\n",
       "    <tr style=\"text-align: right;\">\n",
       "      <th></th>\n",
       "      <th>ID</th>\n",
       "      <th>N</th>\n",
       "      <th>D</th>\n",
       "      <th>G</th>\n",
       "      <th>C</th>\n",
       "      <th>A</th>\n",
       "      <th>H</th>\n",
       "      <th>M</th>\n",
       "      <th>O</th>\n",
       "    </tr>\n",
       "  </thead>\n",
       "  <tbody>\n",
       "    <tr>\n",
       "      <th>0</th>\n",
       "      <td>937</td>\n",
       "      <td>1.0</td>\n",
       "      <td>1.0</td>\n",
       "      <td>1.0</td>\n",
       "      <td>1.0</td>\n",
       "      <td>1.0</td>\n",
       "      <td>1.0</td>\n",
       "      <td>1.0</td>\n",
       "      <td>1.0</td>\n",
       "    </tr>\n",
       "    <tr>\n",
       "      <th>1</th>\n",
       "      <td>967</td>\n",
       "      <td>1.0</td>\n",
       "      <td>1.0</td>\n",
       "      <td>1.0</td>\n",
       "      <td>1.0</td>\n",
       "      <td>1.0</td>\n",
       "      <td>1.0</td>\n",
       "      <td>1.0</td>\n",
       "      <td>1.0</td>\n",
       "    </tr>\n",
       "    <tr>\n",
       "      <th>2</th>\n",
       "      <td>988</td>\n",
       "      <td>1.0</td>\n",
       "      <td>1.0</td>\n",
       "      <td>1.0</td>\n",
       "      <td>1.0</td>\n",
       "      <td>1.0</td>\n",
       "      <td>1.0</td>\n",
       "      <td>1.0</td>\n",
       "      <td>1.0</td>\n",
       "    </tr>\n",
       "    <tr>\n",
       "      <th>3</th>\n",
       "      <td>995</td>\n",
       "      <td>1.0</td>\n",
       "      <td>1.0</td>\n",
       "      <td>1.0</td>\n",
       "      <td>1.0</td>\n",
       "      <td>1.0</td>\n",
       "      <td>1.0</td>\n",
       "      <td>1.0</td>\n",
       "      <td>1.0</td>\n",
       "    </tr>\n",
       "    <tr>\n",
       "      <th>4</th>\n",
       "      <td>1000</td>\n",
       "      <td>1.0</td>\n",
       "      <td>1.0</td>\n",
       "      <td>1.0</td>\n",
       "      <td>1.0</td>\n",
       "      <td>1.0</td>\n",
       "      <td>1.0</td>\n",
       "      <td>1.0</td>\n",
       "      <td>1.0</td>\n",
       "    </tr>\n",
       "    <tr>\n",
       "      <th>...</th>\n",
       "      <td>...</td>\n",
       "      <td>...</td>\n",
       "      <td>...</td>\n",
       "      <td>...</td>\n",
       "      <td>...</td>\n",
       "      <td>...</td>\n",
       "      <td>...</td>\n",
       "      <td>...</td>\n",
       "      <td>...</td>\n",
       "    </tr>\n",
       "    <tr>\n",
       "      <th>495</th>\n",
       "      <td>4787</td>\n",
       "      <td>1.0</td>\n",
       "      <td>1.0</td>\n",
       "      <td>1.0</td>\n",
       "      <td>1.0</td>\n",
       "      <td>1.0</td>\n",
       "      <td>1.0</td>\n",
       "      <td>1.0</td>\n",
       "      <td>1.0</td>\n",
       "    </tr>\n",
       "    <tr>\n",
       "      <th>496</th>\n",
       "      <td>4788</td>\n",
       "      <td>1.0</td>\n",
       "      <td>1.0</td>\n",
       "      <td>1.0</td>\n",
       "      <td>1.0</td>\n",
       "      <td>1.0</td>\n",
       "      <td>1.0</td>\n",
       "      <td>1.0</td>\n",
       "      <td>1.0</td>\n",
       "    </tr>\n",
       "    <tr>\n",
       "      <th>497</th>\n",
       "      <td>4789</td>\n",
       "      <td>1.0</td>\n",
       "      <td>1.0</td>\n",
       "      <td>1.0</td>\n",
       "      <td>1.0</td>\n",
       "      <td>1.0</td>\n",
       "      <td>1.0</td>\n",
       "      <td>1.0</td>\n",
       "      <td>1.0</td>\n",
       "    </tr>\n",
       "    <tr>\n",
       "      <th>498</th>\n",
       "      <td>4791</td>\n",
       "      <td>1.0</td>\n",
       "      <td>1.0</td>\n",
       "      <td>1.0</td>\n",
       "      <td>1.0</td>\n",
       "      <td>1.0</td>\n",
       "      <td>1.0</td>\n",
       "      <td>1.0</td>\n",
       "      <td>1.0</td>\n",
       "    </tr>\n",
       "    <tr>\n",
       "      <th>499</th>\n",
       "      <td>4794</td>\n",
       "      <td>1.0</td>\n",
       "      <td>1.0</td>\n",
       "      <td>1.0</td>\n",
       "      <td>1.0</td>\n",
       "      <td>1.0</td>\n",
       "      <td>1.0</td>\n",
       "      <td>1.0</td>\n",
       "      <td>1.0</td>\n",
       "    </tr>\n",
       "  </tbody>\n",
       "</table>\n",
       "<p>500 rows × 9 columns</p>\n",
       "</div>"
      ],
      "text/plain": [
       "       ID    N    D    G    C    A    H    M    O\n",
       "0     937  1.0  1.0  1.0  1.0  1.0  1.0  1.0  1.0\n",
       "1     967  1.0  1.0  1.0  1.0  1.0  1.0  1.0  1.0\n",
       "2     988  1.0  1.0  1.0  1.0  1.0  1.0  1.0  1.0\n",
       "3     995  1.0  1.0  1.0  1.0  1.0  1.0  1.0  1.0\n",
       "4    1000  1.0  1.0  1.0  1.0  1.0  1.0  1.0  1.0\n",
       "..    ...  ...  ...  ...  ...  ...  ...  ...  ...\n",
       "495  4787  1.0  1.0  1.0  1.0  1.0  1.0  1.0  1.0\n",
       "496  4788  1.0  1.0  1.0  1.0  1.0  1.0  1.0  1.0\n",
       "497  4789  1.0  1.0  1.0  1.0  1.0  1.0  1.0  1.0\n",
       "498  4791  1.0  1.0  1.0  1.0  1.0  1.0  1.0  1.0\n",
       "499  4794  1.0  1.0  1.0  1.0  1.0  1.0  1.0  1.0\n",
       "\n",
       "[500 rows x 9 columns]"
      ]
     },
     "execution_count": 53,
     "metadata": {},
     "output_type": "execute_result"
    }
   ],
   "source": [
    "testdf"
   ]
  },
  {
   "cell_type": "code",
   "execution_count": 54,
   "metadata": {},
   "outputs": [],
   "source": [
    "testdf.to_csv('submissionnormalized.csv', index=False)"
   ]
  },
  {
   "cell_type": "markdown",
   "metadata": {},
   "source": [
    "# Finetuning the model"
   ]
  },
  {
   "cell_type": "code",
   "execution_count": null,
   "metadata": {},
   "outputs": [],
   "source": []
  }
 ],
 "metadata": {
  "kernelspec": {
   "display_name": "Python 3",
   "language": "python",
   "name": "python3"
  },
  "language_info": {
   "codemirror_mode": {
    "name": "ipython",
    "version": 3
   },
   "file_extension": ".py",
   "mimetype": "text/x-python",
   "name": "python",
   "nbconvert_exporter": "python",
   "pygments_lexer": "ipython3",
   "version": "3.10.10"
  }
 },
 "nbformat": 4,
 "nbformat_minor": 2
}
